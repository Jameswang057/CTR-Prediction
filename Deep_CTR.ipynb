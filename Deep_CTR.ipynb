{
  "nbformat": 4,
  "nbformat_minor": 0,
  "metadata": {
    "colab": {
      "provenance": [],
      "machine_shape": "hm"
    },
    "kernelspec": {
      "name": "python3",
      "display_name": "Python 3"
    },
    "language_info": {
      "name": "python"
    },
    "accelerator": "GPU",
    "gpuClass": "premium"
  },
  "cells": [
    {
      "cell_type": "code",
      "execution_count": null,
      "metadata": {
        "colab": {
          "base_uri": "https://localhost:8080/"
        },
        "id": "KhZfpMgnEERz",
        "outputId": "7c167350-d765-4d46-db90-d2fed7d374c6"
      },
      "outputs": [
        {
          "output_type": "stream",
          "name": "stdout",
          "text": [
            "Looking in indexes: https://pypi.org/simple, https://us-python.pkg.dev/colab-wheels/public/simple/\n",
            "Requirement already satisfied: deepctr-torch in /usr/local/lib/python3.8/dist-packages (0.2.9)\n",
            "Requirement already satisfied: tqdm in /usr/local/lib/python3.8/dist-packages (from deepctr-torch) (4.64.1)\n",
            "Requirement already satisfied: scikit-learn in /usr/local/lib/python3.8/dist-packages (from deepctr-torch) (1.0.2)\n",
            "Requirement already satisfied: torch>=1.2.0 in /usr/local/lib/python3.8/dist-packages (from deepctr-torch) (1.13.1+cu116)\n",
            "Requirement already satisfied: tensorflow in /usr/local/lib/python3.8/dist-packages (from deepctr-torch) (2.9.2)\n",
            "Requirement already satisfied: typing-extensions in /usr/local/lib/python3.8/dist-packages (from torch>=1.2.0->deepctr-torch) (4.4.0)\n",
            "Requirement already satisfied: joblib>=0.11 in /usr/local/lib/python3.8/dist-packages (from scikit-learn->deepctr-torch) (1.2.0)\n",
            "Requirement already satisfied: numpy>=1.14.6 in /usr/local/lib/python3.8/dist-packages (from scikit-learn->deepctr-torch) (1.21.6)\n",
            "Requirement already satisfied: scipy>=1.1.0 in /usr/local/lib/python3.8/dist-packages (from scikit-learn->deepctr-torch) (1.7.3)\n",
            "Requirement already satisfied: threadpoolctl>=2.0.0 in /usr/local/lib/python3.8/dist-packages (from scikit-learn->deepctr-torch) (3.1.0)\n",
            "Requirement already satisfied: protobuf<3.20,>=3.9.2 in /usr/local/lib/python3.8/dist-packages (from tensorflow->deepctr-torch) (3.19.6)\n",
            "Requirement already satisfied: packaging in /usr/local/lib/python3.8/dist-packages (from tensorflow->deepctr-torch) (21.3)\n",
            "Requirement already satisfied: gast<=0.4.0,>=0.2.1 in /usr/local/lib/python3.8/dist-packages (from tensorflow->deepctr-torch) (0.4.0)\n",
            "Requirement already satisfied: keras<2.10.0,>=2.9.0rc0 in /usr/local/lib/python3.8/dist-packages (from tensorflow->deepctr-torch) (2.9.0)\n",
            "Requirement already satisfied: wrapt>=1.11.0 in /usr/local/lib/python3.8/dist-packages (from tensorflow->deepctr-torch) (1.14.1)\n",
            "Requirement already satisfied: tensorboard<2.10,>=2.9 in /usr/local/lib/python3.8/dist-packages (from tensorflow->deepctr-torch) (2.9.1)\n",
            "Requirement already satisfied: six>=1.12.0 in /usr/local/lib/python3.8/dist-packages (from tensorflow->deepctr-torch) (1.15.0)\n",
            "Requirement already satisfied: tensorflow-io-gcs-filesystem>=0.23.1 in /usr/local/lib/python3.8/dist-packages (from tensorflow->deepctr-torch) (0.29.0)\n",
            "Requirement already satisfied: libclang>=13.0.0 in /usr/local/lib/python3.8/dist-packages (from tensorflow->deepctr-torch) (15.0.6.1)\n",
            "Requirement already satisfied: opt-einsum>=2.3.2 in /usr/local/lib/python3.8/dist-packages (from tensorflow->deepctr-torch) (3.3.0)\n",
            "Requirement already satisfied: h5py>=2.9.0 in /usr/local/lib/python3.8/dist-packages (from tensorflow->deepctr-torch) (3.1.0)\n",
            "Requirement already satisfied: astunparse>=1.6.0 in /usr/local/lib/python3.8/dist-packages (from tensorflow->deepctr-torch) (1.6.3)\n",
            "Requirement already satisfied: keras-preprocessing>=1.1.1 in /usr/local/lib/python3.8/dist-packages (from tensorflow->deepctr-torch) (1.1.2)\n",
            "Requirement already satisfied: absl-py>=1.0.0 in /usr/local/lib/python3.8/dist-packages (from tensorflow->deepctr-torch) (1.3.0)\n",
            "Requirement already satisfied: google-pasta>=0.1.1 in /usr/local/lib/python3.8/dist-packages (from tensorflow->deepctr-torch) (0.2.0)\n",
            "Requirement already satisfied: setuptools in /usr/local/lib/python3.8/dist-packages (from tensorflow->deepctr-torch) (57.4.0)\n",
            "Requirement already satisfied: flatbuffers<2,>=1.12 in /usr/local/lib/python3.8/dist-packages (from tensorflow->deepctr-torch) (1.12)\n",
            "Requirement already satisfied: tensorflow-estimator<2.10.0,>=2.9.0rc0 in /usr/local/lib/python3.8/dist-packages (from tensorflow->deepctr-torch) (2.9.0)\n",
            "Requirement already satisfied: grpcio<2.0,>=1.24.3 in /usr/local/lib/python3.8/dist-packages (from tensorflow->deepctr-torch) (1.51.1)\n",
            "Requirement already satisfied: termcolor>=1.1.0 in /usr/local/lib/python3.8/dist-packages (from tensorflow->deepctr-torch) (2.2.0)\n",
            "Requirement already satisfied: wheel<1.0,>=0.23.0 in /usr/local/lib/python3.8/dist-packages (from astunparse>=1.6.0->tensorflow->deepctr-torch) (0.38.4)\n",
            "Requirement already satisfied: google-auth-oauthlib<0.5,>=0.4.1 in /usr/local/lib/python3.8/dist-packages (from tensorboard<2.10,>=2.9->tensorflow->deepctr-torch) (0.4.6)\n",
            "Requirement already satisfied: google-auth<3,>=1.6.3 in /usr/local/lib/python3.8/dist-packages (from tensorboard<2.10,>=2.9->tensorflow->deepctr-torch) (2.16.0)\n",
            "Requirement already satisfied: markdown>=2.6.8 in /usr/local/lib/python3.8/dist-packages (from tensorboard<2.10,>=2.9->tensorflow->deepctr-torch) (3.4.1)\n",
            "Requirement already satisfied: tensorboard-plugin-wit>=1.6.0 in /usr/local/lib/python3.8/dist-packages (from tensorboard<2.10,>=2.9->tensorflow->deepctr-torch) (1.8.1)\n",
            "Requirement already satisfied: werkzeug>=1.0.1 in /usr/local/lib/python3.8/dist-packages (from tensorboard<2.10,>=2.9->tensorflow->deepctr-torch) (1.0.1)\n",
            "Requirement already satisfied: tensorboard-data-server<0.7.0,>=0.6.0 in /usr/local/lib/python3.8/dist-packages (from tensorboard<2.10,>=2.9->tensorflow->deepctr-torch) (0.6.1)\n",
            "Requirement already satisfied: requests<3,>=2.21.0 in /usr/local/lib/python3.8/dist-packages (from tensorboard<2.10,>=2.9->tensorflow->deepctr-torch) (2.25.1)\n",
            "Requirement already satisfied: pyparsing!=3.0.5,>=2.0.2 in /usr/local/lib/python3.8/dist-packages (from packaging->tensorflow->deepctr-torch) (3.0.9)\n",
            "Requirement already satisfied: rsa<5,>=3.1.4 in /usr/local/lib/python3.8/dist-packages (from google-auth<3,>=1.6.3->tensorboard<2.10,>=2.9->tensorflow->deepctr-torch) (4.9)\n",
            "Requirement already satisfied: cachetools<6.0,>=2.0.0 in /usr/local/lib/python3.8/dist-packages (from google-auth<3,>=1.6.3->tensorboard<2.10,>=2.9->tensorflow->deepctr-torch) (5.2.1)\n",
            "Requirement already satisfied: pyasn1-modules>=0.2.1 in /usr/local/lib/python3.8/dist-packages (from google-auth<3,>=1.6.3->tensorboard<2.10,>=2.9->tensorflow->deepctr-torch) (0.2.8)\n",
            "Requirement already satisfied: requests-oauthlib>=0.7.0 in /usr/local/lib/python3.8/dist-packages (from google-auth-oauthlib<0.5,>=0.4.1->tensorboard<2.10,>=2.9->tensorflow->deepctr-torch) (1.3.1)\n",
            "Requirement already satisfied: importlib-metadata>=4.4 in /usr/local/lib/python3.8/dist-packages (from markdown>=2.6.8->tensorboard<2.10,>=2.9->tensorflow->deepctr-torch) (6.0.0)\n",
            "Requirement already satisfied: idna<3,>=2.5 in /usr/local/lib/python3.8/dist-packages (from requests<3,>=2.21.0->tensorboard<2.10,>=2.9->tensorflow->deepctr-torch) (2.10)\n",
            "Requirement already satisfied: certifi>=2017.4.17 in /usr/local/lib/python3.8/dist-packages (from requests<3,>=2.21.0->tensorboard<2.10,>=2.9->tensorflow->deepctr-torch) (2022.12.7)\n",
            "Requirement already satisfied: chardet<5,>=3.0.2 in /usr/local/lib/python3.8/dist-packages (from requests<3,>=2.21.0->tensorboard<2.10,>=2.9->tensorflow->deepctr-torch) (4.0.0)\n",
            "Requirement already satisfied: urllib3<1.27,>=1.21.1 in /usr/local/lib/python3.8/dist-packages (from requests<3,>=2.21.0->tensorboard<2.10,>=2.9->tensorflow->deepctr-torch) (1.24.3)\n",
            "Requirement already satisfied: zipp>=0.5 in /usr/local/lib/python3.8/dist-packages (from importlib-metadata>=4.4->markdown>=2.6.8->tensorboard<2.10,>=2.9->tensorflow->deepctr-torch) (3.11.0)\n",
            "Requirement already satisfied: pyasn1<0.5.0,>=0.4.6 in /usr/local/lib/python3.8/dist-packages (from pyasn1-modules>=0.2.1->google-auth<3,>=1.6.3->tensorboard<2.10,>=2.9->tensorflow->deepctr-torch) (0.4.8)\n",
            "Requirement already satisfied: oauthlib>=3.0.0 in /usr/local/lib/python3.8/dist-packages (from requests-oauthlib>=0.7.0->google-auth-oauthlib<0.5,>=0.4.1->tensorboard<2.10,>=2.9->tensorflow->deepctr-torch) (3.2.2)\n"
          ]
        }
      ],
      "source": [
        "!pip install -U deepctr-torch\n",
        "import pandas as pd\n",
        "import torch\n",
        "from sklearn.metrics import log_loss, roc_auc_score\n",
        "from sklearn.model_selection import train_test_split\n",
        "from sklearn.preprocessing import LabelEncoder, MinMaxScaler\n",
        "\n",
        "from deepctr_torch.inputs import SparseFeat, DenseFeat, get_feature_names\n",
        "from deepctr_torch.models import *\n",
        "\n",
        "from google.colab import drive"
      ]
    },
    {
      "cell_type": "code",
      "source": [
        "from google.colab import drive\n",
        "drive.mount('/content/drive')"
      ],
      "metadata": {
        "colab": {
          "base_uri": "https://localhost:8080/"
        },
        "id": "mwFCB3foElpW",
        "outputId": "207d0871-aa99-4f5c-aa40-d8481608e7ea"
      },
      "execution_count": null,
      "outputs": [
        {
          "output_type": "stream",
          "name": "stdout",
          "text": [
            "Drive already mounted at /content/drive; to attempt to forcibly remount, call drive.mount(\"/content/drive\", force_remount=True).\n"
          ]
        }
      ]
    },
    {
      "cell_type": "code",
      "source": [
        "data = pd.read_csv('/content/drive/MyDrive/Colab Notebooks/CTR/filtered_train.csv')  \n",
        "data['hr'] = data['hour'].astype(str).str.slice(6, 8).astype(int) \n",
        "data = data.iloc[: , 1:]    \n",
        "data = data.drop('id', axis = 1)  \n",
        "print(data.columns)"
      ],
      "metadata": {
        "id": "APWlyQpvMsWH",
        "colab": {
          "base_uri": "https://localhost:8080/"
        },
        "outputId": "a12ff249-136b-49b9-bb46-6929c8d43d6b"
      },
      "execution_count": null,
      "outputs": [
        {
          "output_type": "stream",
          "name": "stdout",
          "text": [
            "Index(['click', 'hour', 'C1', 'banner_pos', 'site_id', 'site_domain',\n",
            "       'site_category', 'app_id', 'app_domain', 'app_category', 'device_id',\n",
            "       'device_ip', 'device_model', 'device_type', 'device_conn_type', 'C14',\n",
            "       'C15', 'C16', 'C17', 'C18', 'C19', 'C20', 'C21', 'hr'],\n",
            "      dtype='object')\n"
          ]
        }
      ]
    },
    {
      "cell_type": "code",
      "source": [
        "data.shape"
      ],
      "metadata": {
        "colab": {
          "base_uri": "https://localhost:8080/"
        },
        "id": "QBKQNt8xq-Er",
        "outputId": "18226a31-9197-4591-d752-0cb9002c038f"
      },
      "execution_count": null,
      "outputs": [
        {
          "output_type": "execute_result",
          "data": {
            "text/plain": [
              "(404290, 24)"
            ]
          },
          "metadata": {},
          "execution_count": 24
        }
      ]
    },
    {
      "cell_type": "code",
      "source": [
        "data.dtypes"
      ],
      "metadata": {
        "colab": {
          "base_uri": "https://localhost:8080/"
        },
        "id": "lfHWMJV3g2S7",
        "outputId": "58744cad-5f0b-4767-a72e-417768f7cd09"
      },
      "execution_count": null,
      "outputs": [
        {
          "output_type": "execute_result",
          "data": {
            "text/plain": [
              "click                int64\n",
              "hour                 int64\n",
              "C1                   int64\n",
              "banner_pos           int64\n",
              "site_id             object\n",
              "site_domain         object\n",
              "site_category       object\n",
              "app_id              object\n",
              "app_domain          object\n",
              "app_category        object\n",
              "device_id           object\n",
              "device_ip           object\n",
              "device_model        object\n",
              "device_type          int64\n",
              "device_conn_type     int64\n",
              "C14                  int64\n",
              "C15                  int64\n",
              "C16                  int64\n",
              "C17                  int64\n",
              "C18                  int64\n",
              "C19                  int64\n",
              "C20                  int64\n",
              "C21                  int64\n",
              "hr                   int64\n",
              "dtype: object"
            ]
          },
          "metadata": {},
          "execution_count": 25
        }
      ]
    },
    {
      "cell_type": "code",
      "source": [
        "data.nunique()"
      ],
      "metadata": {
        "colab": {
          "base_uri": "https://localhost:8080/"
        },
        "id": "xjUZG20utMNo",
        "outputId": "c8dd41e3-8b97-47c9-b6b6-1dc8f88eb174"
      },
      "execution_count": null,
      "outputs": [
        {
          "output_type": "execute_result",
          "data": {
            "text/plain": [
              "click                    2\n",
              "hour                   240\n",
              "C1                       7\n",
              "banner_pos               7\n",
              "site_id               2225\n",
              "site_domain           2188\n",
              "site_category           22\n",
              "app_id                2241\n",
              "app_domain             143\n",
              "app_category            27\n",
              "device_id            64742\n",
              "device_ip           261706\n",
              "device_model          4380\n",
              "device_type              4\n",
              "device_conn_type         4\n",
              "C14                   2088\n",
              "C15                      8\n",
              "C16                      9\n",
              "C17                    411\n",
              "C18                      4\n",
              "C19                     65\n",
              "C20                    161\n",
              "C21                     60\n",
              "hr                      24\n",
              "dtype: int64"
            ]
          },
          "metadata": {},
          "execution_count": 26
        }
      ]
    },
    {
      "cell_type": "code",
      "source": [
        "data['click'].value_counts() "
      ],
      "metadata": {
        "colab": {
          "base_uri": "https://localhost:8080/"
        },
        "id": "xNsWqnpXtQ26",
        "outputId": "1ea12647-94b6-4bb0-8697-998ec0abcb57"
      },
      "execution_count": null,
      "outputs": [
        {
          "output_type": "execute_result",
          "data": {
            "text/plain": [
              "0    335635\n",
              "1     68655\n",
              "Name: click, dtype: int64"
            ]
          },
          "metadata": {},
          "execution_count": 27
        }
      ]
    },
    {
      "cell_type": "markdown",
      "source": [
        "1. Label Encoding for sparse features and simple transformation for dense features. "
      ],
      "metadata": {
        "id": "X_NvnrWAVMyM"
      }
    },
    {
      "cell_type": "code",
      "source": [
        "sparse_features = list(data.select_dtypes(['object']).columns)\n",
        "dense_features = list(data.select_dtypes(['int64']).columns)\n",
        "dense_features.remove('click')\n",
        "sparse_features.remove('device_id')\n",
        "sparse_features.remove('device_ip')\n",
        "\n",
        "data[sparse_features] = data[sparse_features].fillna('-1', )\n",
        "data[dense_features] = data[dense_features].fillna(0, )\n",
        "target = ['click']\n",
        "\n",
        "for feat in sparse_features:\n",
        "    lbe = LabelEncoder()\n",
        "    data[feat] = lbe.fit_transform(data[feat])\n",
        "mms = MinMaxScaler(feature_range=(0, 1))     \n",
        "data[dense_features] = mms.fit_transform(data[dense_features]) "
      ],
      "metadata": {
        "id": "AHUPNlK7Mwl3"
      },
      "execution_count": null,
      "outputs": []
    },
    {
      "cell_type": "code",
      "source": [
        "print(dense_features)"
      ],
      "metadata": {
        "colab": {
          "base_uri": "https://localhost:8080/"
        },
        "id": "ZkoZ7NlxPl4i",
        "outputId": "a6be9a98-3102-4597-c3a9-e88bc7559924"
      },
      "execution_count": null,
      "outputs": [
        {
          "output_type": "stream",
          "name": "stdout",
          "text": [
            "['hour', 'C1', 'banner_pos', 'device_type', 'device_conn_type', 'C14', 'C15', 'C16', 'C17', 'C18', 'C19', 'C20', 'C21', 'hr']\n"
          ]
        }
      ]
    },
    {
      "cell_type": "markdown",
      "source": [
        "2. Count the number of unique features for each sparse field and record the dense feature field names.  \n"
      ],
      "metadata": {
        "id": "5Znc1jLGWRHM"
      }
    },
    {
      "cell_type": "code",
      "source": [
        "fixlen_feature_columns = [SparseFeat(feat, data[feat].nunique())\n",
        "                          for feat in sparse_features] + [DenseFeat(feat, 1) for feat in dense_features]\n",
        "\n",
        "dnn_feature_columns = fixlen_feature_columns\n",
        "linear_feature_columns = fixlen_feature_columns\n",
        "\n",
        "feature_names = get_feature_names(linear_feature_columns + dnn_feature_columns)"
      ],
      "metadata": {
        "id": "f3gKjgCTMioU"
      },
      "execution_count": null,
      "outputs": []
    },
    {
      "cell_type": "markdown",
      "source": [
        "3. Train and test dataset."
      ],
      "metadata": {
        "id": "8z8zWw4ZWRo0"
      }
    },
    {
      "cell_type": "code",
      "source": [
        "train, test = train_test_split(data, test_size=0.2, random_state=2022)\n",
        "train_model_input = {name: train[name] for name in feature_names}\n",
        "test_model_input = {name: test[name] for name in feature_names}"
      ],
      "metadata": {
        "id": "CyOIch5TMuYc"
      },
      "execution_count": null,
      "outputs": []
    },
    {
      "cell_type": "markdown",
      "source": [
        "4. Setup GPU."
      ],
      "metadata": {
        "id": "PLSFY4jC5CFO"
      }
    },
    {
      "cell_type": "code",
      "source": [
        "device = 'cpu'\n",
        "use_cuda = True\n",
        "if use_cuda and torch.cuda.is_available():\n",
        "    print('cuda ready...')\n",
        "    device = 'cuda:0'"
      ],
      "metadata": {
        "colab": {
          "base_uri": "https://localhost:8080/"
        },
        "id": "vJqYExQw5FX4",
        "outputId": "d7521447-1141-4abc-dea3-87ed16565ab8"
      },
      "execution_count": null,
      "outputs": [
        {
          "output_type": "stream",
          "name": "stdout",
          "text": [
            "cuda ready...\n"
          ]
        }
      ]
    },
    {
      "cell_type": "markdown",
      "source": [
        "5. Define Model - DeepFM."
      ],
      "metadata": {
        "id": "w_NR32Ms4pON"
      }
    },
    {
      "cell_type": "code",
      "source": [
        "model = DeepFM(linear_feature_columns=linear_feature_columns, dnn_feature_columns=dnn_feature_columns,\n",
        "                task='binary',\n",
        "                l2_reg_embedding=1e-5, device=device)\n",
        "\n",
        "model.compile(\"adagrad\", \"binary_crossentropy\",\n",
        "              metrics=[\"binary_crossentropy\", \"auc\"], )\n",
        "\n",
        "history = model.fit(train_model_input, train[target].values, epochs=10, verbose=2,validation_split=0.2)\n",
        "pred_ans = model.predict(test_model_input, 256)\n",
        "print(\"\")\n",
        "print(\"test LogLoss\", round(log_loss(test[target].values, pred_ans), 4))\n",
        "print(\"test AUC\", round(roc_auc_score(test[target].values, pred_ans), 4))"
      ],
      "metadata": {
        "colab": {
          "base_uri": "https://localhost:8080/"
        },
        "id": "A1N_c19gMxrR",
        "outputId": "74a0c05d-a021-4aeb-e12e-7d2e6e9de21f"
      },
      "execution_count": null,
      "outputs": [
        {
          "output_type": "stream",
          "name": "stdout",
          "text": [
            "cuda:0\n",
            "Train on 258745 samples, validate on 64687 samples, 1011 steps per epoch\n",
            "Epoch 1/10\n",
            "11s - loss:  0.4105 - binary_crossentropy:  0.4105 - auc:  0.7211 - val_binary_crossentropy:  0.4056 - val_auc:  0.7281\n",
            "Epoch 2/10\n",
            "11s - loss:  0.4004 - binary_crossentropy:  0.4005 - auc:  0.7429 - val_binary_crossentropy:  0.4045 - val_auc:  0.7300\n",
            "Epoch 3/10\n",
            "11s - loss:  0.3972 - binary_crossentropy:  0.3972 - auc:  0.7496 - val_binary_crossentropy:  0.4047 - val_auc:  0.7294\n",
            "Epoch 4/10\n",
            "11s - loss:  0.3952 - binary_crossentropy:  0.3952 - auc:  0.7530 - val_binary_crossentropy:  0.4054 - val_auc:  0.7288\n",
            "Epoch 5/10\n",
            "11s - loss:  0.3936 - binary_crossentropy:  0.3936 - auc:  0.7557 - val_binary_crossentropy:  0.4058 - val_auc:  0.7284\n",
            "Epoch 6/10\n",
            "11s - loss:  0.3925 - binary_crossentropy:  0.3925 - auc:  0.7573 - val_binary_crossentropy:  0.4064 - val_auc:  0.7275\n",
            "Epoch 7/10\n",
            "11s - loss:  0.3915 - binary_crossentropy:  0.3915 - auc:  0.7592 - val_binary_crossentropy:  0.4069 - val_auc:  0.7269\n",
            "Epoch 8/10\n",
            "11s - loss:  0.3907 - binary_crossentropy:  0.3907 - auc:  0.7601 - val_binary_crossentropy:  0.4074 - val_auc:  0.7268\n",
            "Epoch 9/10\n",
            "11s - loss:  0.3901 - binary_crossentropy:  0.3901 - auc:  0.7609 - val_binary_crossentropy:  0.4082 - val_auc:  0.7261\n",
            "Epoch 10/10\n",
            "11s - loss:  0.3895 - binary_crossentropy:  0.3895 - auc:  0.7616 - val_binary_crossentropy:  0.4089 - val_auc:  0.7258\n",
            "\n",
            "test LogLoss 0.4089\n",
            "test AUC 0.7283\n"
          ]
        }
      ]
    },
    {
      "cell_type": "markdown",
      "source": [
        "6. Define Model - xDeepFM."
      ],
      "metadata": {
        "id": "I8xGGdnL5Sad"
      }
    },
    {
      "cell_type": "code",
      "source": [
        "model = xDeepFM(linear_feature_columns=linear_feature_columns, dnn_feature_columns=dnn_feature_columns,\n",
        "                task='binary',\n",
        "                l2_reg_embedding=1e-5, device=device)\n",
        "\n",
        "model.compile(\"adagrad\", \"binary_crossentropy\",\n",
        "              metrics=[\"binary_crossentropy\", \"auc\"], )\n",
        "\n",
        "history = model.fit(train_model_input, train[target].values, epochs=10, verbose=2,validation_split=0.2)\n",
        "pred_ans = model.predict(test_model_input, 256)\n",
        "print(\"\")\n",
        "print(\"test LogLoss\", round(log_loss(test[target].values, pred_ans), 4))\n",
        "print(\"test AUC\", round(roc_auc_score(test[target].values, pred_ans), 4))"
      ],
      "metadata": {
        "colab": {
          "base_uri": "https://localhost:8080/"
        },
        "id": "fbnnidNoNdFT",
        "outputId": "23c2b9ef-5621-4c60-ca1f-9212a99b4de9"
      },
      "execution_count": null,
      "outputs": [
        {
          "output_type": "stream",
          "name": "stdout",
          "text": [
            "cuda:0\n",
            "Train on 258745 samples, validate on 64687 samples, 1011 steps per epoch\n",
            "Epoch 1/10\n",
            "12s - loss:  0.4098 - binary_crossentropy:  0.4098 - auc:  0.7226 - val_binary_crossentropy:  0.4052 - val_auc:  0.7280\n",
            "Epoch 2/10\n",
            "12s - loss:  0.4001 - binary_crossentropy:  0.4001 - auc:  0.7433 - val_binary_crossentropy:  0.4045 - val_auc:  0.7296\n",
            "Epoch 3/10\n",
            "13s - loss:  0.3969 - binary_crossentropy:  0.3969 - auc:  0.7497 - val_binary_crossentropy:  0.4052 - val_auc:  0.7294\n",
            "Epoch 4/10\n",
            "13s - loss:  0.3946 - binary_crossentropy:  0.3946 - auc:  0.7536 - val_binary_crossentropy:  0.4064 - val_auc:  0.7283\n",
            "Epoch 5/10\n",
            "12s - loss:  0.3929 - binary_crossentropy:  0.3929 - auc:  0.7569 - val_binary_crossentropy:  0.4066 - val_auc:  0.7276\n",
            "Epoch 6/10\n",
            "13s - loss:  0.3915 - binary_crossentropy:  0.3915 - auc:  0.7585 - val_binary_crossentropy:  0.4074 - val_auc:  0.7266\n",
            "Epoch 7/10\n",
            "13s - loss:  0.3904 - binary_crossentropy:  0.3904 - auc:  0.7605 - val_binary_crossentropy:  0.4079 - val_auc:  0.7256\n",
            "Epoch 8/10\n",
            "12s - loss:  0.3895 - binary_crossentropy:  0.3895 - auc:  0.7619 - val_binary_crossentropy:  0.4093 - val_auc:  0.7254\n",
            "Epoch 9/10\n",
            "13s - loss:  0.3887 - binary_crossentropy:  0.3887 - auc:  0.7626 - val_binary_crossentropy:  0.4091 - val_auc:  0.7247\n",
            "Epoch 10/10\n",
            "13s - loss:  0.3880 - binary_crossentropy:  0.3880 - auc:  0.7636 - val_binary_crossentropy:  0.4100 - val_auc:  0.7242\n",
            "\n",
            "test LogLoss 0.4104\n",
            "test AUC 0.7265\n"
          ]
        }
      ]
    },
    {
      "cell_type": "markdown",
      "source": [
        "7. Define Model - Wide and Deep."
      ],
      "metadata": {
        "id": "caPAEd725ciW"
      }
    },
    {
      "cell_type": "code",
      "source": [
        "model = WDL(linear_feature_columns=linear_feature_columns, dnn_feature_columns=dnn_feature_columns,\n",
        "                task='binary',\n",
        "                l2_reg_embedding=1e-5, device=device)\n",
        "\n",
        "model.compile(\"adagrad\", \"binary_crossentropy\",\n",
        "              metrics=[\"binary_crossentropy\", \"auc\"], )\n",
        "\n",
        "history = model.fit(train_model_input, train[target].values, epochs=10, verbose=2,validation_split=0.2)\n",
        "pred_ans = model.predict(test_model_input, 256)\n",
        "print(\"\")\n",
        "print(\"test LogLoss\", round(log_loss(test[target].values, pred_ans), 4))\n",
        "print(\"test AUC\", round(roc_auc_score(test[target].values, pred_ans), 4))"
      ],
      "metadata": {
        "colab": {
          "base_uri": "https://localhost:8080/"
        },
        "id": "vuWEBSAfVFAB",
        "outputId": "e1e96d52-1075-4f15-f247-257aef39d684"
      },
      "execution_count": null,
      "outputs": [
        {
          "output_type": "stream",
          "name": "stdout",
          "text": [
            "cuda:0\n",
            "Train on 258745 samples, validate on 64687 samples, 1011 steps per epoch\n",
            "Epoch 1/10\n",
            "10s - loss:  0.4107 - binary_crossentropy:  0.4107 - auc:  0.7208 - val_binary_crossentropy:  0.4057 - val_auc:  0.7279\n",
            "Epoch 2/10\n",
            "10s - loss:  0.4007 - binary_crossentropy:  0.4007 - auc:  0.7424 - val_binary_crossentropy:  0.4046 - val_auc:  0.7299\n",
            "Epoch 3/10\n",
            "10s - loss:  0.3975 - binary_crossentropy:  0.3975 - auc:  0.7490 - val_binary_crossentropy:  0.4047 - val_auc:  0.7293\n",
            "Epoch 4/10\n",
            "10s - loss:  0.3955 - binary_crossentropy:  0.3954 - auc:  0.7524 - val_binary_crossentropy:  0.4054 - val_auc:  0.7287\n",
            "Epoch 5/10\n",
            "10s - loss:  0.3939 - binary_crossentropy:  0.3939 - auc:  0.7552 - val_binary_crossentropy:  0.4058 - val_auc:  0.7283\n",
            "Epoch 6/10\n",
            "10s - loss:  0.3928 - binary_crossentropy:  0.3928 - auc:  0.7568 - val_binary_crossentropy:  0.4064 - val_auc:  0.7274\n",
            "Epoch 7/10\n",
            "10s - loss:  0.3918 - binary_crossentropy:  0.3918 - auc:  0.7586 - val_binary_crossentropy:  0.4069 - val_auc:  0.7269\n",
            "Epoch 8/10\n",
            "11s - loss:  0.3910 - binary_crossentropy:  0.3910 - auc:  0.7595 - val_binary_crossentropy:  0.4074 - val_auc:  0.7268\n",
            "Epoch 9/10\n",
            "10s - loss:  0.3904 - binary_crossentropy:  0.3904 - auc:  0.7603 - val_binary_crossentropy:  0.4081 - val_auc:  0.7261\n",
            "Epoch 10/10\n",
            "10s - loss:  0.3898 - binary_crossentropy:  0.3898 - auc:  0.7611 - val_binary_crossentropy:  0.4088 - val_auc:  0.7256\n",
            "\n",
            "test LogLoss 0.4087\n",
            "test AUC 0.7282\n"
          ]
        }
      ]
    }
  ]
}